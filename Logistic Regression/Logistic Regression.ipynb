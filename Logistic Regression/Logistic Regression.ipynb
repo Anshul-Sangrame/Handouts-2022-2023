{
 "cells": [
  {
   "cell_type": "code",
   "execution_count": 118,
   "metadata": {},
   "outputs": [],
   "source": [
    "import numpy as np\n",
    "import matplotlib.pyplot as plt\n",
    "import pandas as pd\n",
    "import math"
   ]
  },
  {
   "cell_type": "code",
   "execution_count": 119,
   "metadata": {},
   "outputs": [],
   "source": [
    "def loading_data():\n",
    "  data_set = pd.read_csv('dataset.csv')\n",
    "  \n",
    "  training_data = data_set.sample(frac=0.75,random_state=25)\n",
    "  testing_data = data_set.drop(training_data.index)\n",
    "  \n",
    "  train_y = training_data['quality']\n",
    "  test_y = training_data['quality']\n",
    "  del training_data['quality']\n",
    "  del testing_data['quality']\n",
    "  \n",
    "  training_data_normal = (training_data - training_data.mean())/training_data.std()\n",
    "  testing_data_normal = (testing_data - testing_data.mean())/testing_data.std()\n",
    "  \n",
    "  training_data = training_data_normal.to_numpy()\n",
    "  testing_data = testing_data_normal.to_numpy()\n",
    "  train_y = train_y.to_numpy()\n",
    "  test_y = test_y.to_numpy()\n",
    "  \n",
    "  return (training_data,train_y),(testing_data,test_y)\n",
    "  "
   ]
  },
  {
   "cell_type": "code",
   "execution_count": 120,
   "metadata": {},
   "outputs": [],
   "source": [
    "(train_X,train_Y),(test_X,test_Y) = loading_data()\n"
   ]
  },
  {
   "cell_type": "code",
   "execution_count": 121,
   "metadata": {},
   "outputs": [],
   "source": [
    "class LogisticRegressor(object):\n",
    "  def __init__(self) :\n",
    "    self.M = train_X.shape[0]\n",
    "    self.N = train_X.shape[1]\n",
    "    self.weights = [np.random.randn(self.N,1)]\n",
    "    self.bias = np.random.randn()\n",
    "    self.test_size = test_X.shape[0]\n",
    "  \n",
    "  def SGD(self,epochs,lr):\n",
    "    for j in range(epochs):\n",
    "      self.weights = self.weights + (lr/self.M)*(self.loss_deri())\n",
    "      print(\"Epoch : \"+ str(j) + \" Loss value : \" + str(self.loss_function()) + \" Accuracy : \" + str(self.accuracy()))\n",
    "      \n",
    "  def hypo_function(self,train_entry):\n",
    "    z = self.bias + np.dot(train_entry,self.weights)[0][0]\n",
    "    return 1/(1+np.exp(-z))\n",
    "      \n",
    "  def loss_function(self):\n",
    "    loss = 0\n",
    "    for i in range(self.M):\n",
    "      loss = loss + train_Y[i]*(math.log(self.hypo_function(train_X[i]))) + (1-train_Y[i])*(math.log(self.hypo_function(train_X[i])))\n",
    "    \n",
    "    loss = loss/self.M\n",
    "    return loss\n",
    "  \n",
    "  def loss_deri(self):\n",
    "    loss_deri = np.zeros([self.N,1])\n",
    "    for i in range(self.M):\n",
    "      loss_deri = loss_deri + (train_Y[i] - self.hypo_function(train_X[i]))*(np.transpose(train_X[i]))\n",
    "    return loss_deri\n",
    "  \n",
    "  def accuracy(self):\n",
    "    correct = 0\n",
    "    curr = 0\n",
    "    for i in range(self.test_size):\n",
    "      if(self.hypo_function(test_X[i]) >= 0.5):\n",
    "        curr = 1\n",
    "      else:\n",
    "        curr = 0\n",
    "      if(curr == test_Y[i]):\n",
    "        correct = correct+1\n",
    "    \n",
    "    return correct/self.test_size"
   ]
  },
  {
   "cell_type": "code",
   "execution_count": 122,
   "metadata": {},
   "outputs": [],
   "source": [
    "Model = LogisticRegressor()"
   ]
  },
  {
   "cell_type": "code",
   "execution_count": 123,
   "metadata": {},
   "outputs": [
    {
     "name": "stdout",
     "output_type": "stream",
     "text": [
      "Epoch : 0 Loss value : -1.981549097355899 Accuracy : 0.515\n",
      "Epoch : 1 Loss value : -1.9801457615298397 Accuracy : 0.515\n",
      "Epoch : 2 Loss value : -1.9787531992758225 Accuracy : 0.515\n",
      "Epoch : 3 Loss value : -1.9773713715812595 Accuracy : 0.5125\n",
      "Epoch : 4 Loss value : -1.9760002380182173 Accuracy : 0.5125\n",
      "Epoch : 5 Loss value : -1.9746397567693446 Accuracy : 0.5125\n",
      "Epoch : 6 Loss value : -1.97328988465753 Accuracy : 0.5125\n",
      "Epoch : 7 Loss value : -1.9719505771791073 Accuracy : 0.51\n",
      "Epoch : 8 Loss value : -1.9706217885404964 Accuracy : 0.51\n",
      "Epoch : 9 Loss value : -1.9693034716980011 Accuracy : 0.51\n"
     ]
    }
   ],
   "source": [
    "Model.SGD(epochs=10,lr=0.01)"
   ]
  },
  {
   "cell_type": "code",
   "execution_count": 124,
   "metadata": {},
   "outputs": [
    {
     "name": "stdout",
     "output_type": "stream",
     "text": [
      "0.725\n"
     ]
    },
    {
     "name": "stderr",
     "output_type": "stream",
     "text": [
      "/Users/ds/Library/Python/3.9/lib/python/site-packages/sklearn/linear_model/_logistic.py:444: ConvergenceWarning: lbfgs failed to converge (status=1):\n",
      "STOP: TOTAL NO. of ITERATIONS REACHED LIMIT.\n",
      "\n",
      "Increase the number of iterations (max_iter) or scale the data as shown in:\n",
      "    https://scikit-learn.org/stable/modules/preprocessing.html\n",
      "Please also refer to the documentation for alternative solver options:\n",
      "    https://scikit-learn.org/stable/modules/linear_model.html#logistic-regression\n",
      "  n_iter_i = _check_optimize_result(\n"
     ]
    }
   ],
   "source": [
    "from sklearn.linear_model import LogisticRegression\n",
    "\n",
    "from sklearn.model_selection import train_test_split\n",
    "\n",
    "data_set = pd.read_csv('dataset.csv')\n",
    "\n",
    "y = data_set['quality']\n",
    "\n",
    "X = data_set\n",
    "\n",
    "del X['quality']\n",
    "\n",
    "X_train, X_test,y_train, y_test = train_test_split(X,y ,\n",
    "                                   random_state=13, \n",
    "                                   test_size=0.20, \n",
    "                                   shuffle=True)\n",
    "\n",
    "sk_log = LogisticRegression()\n",
    "sk_log.fit(X_train,y_train)\n",
    "print(sk_log.score(X_test,y_test))"
   ]
  }
 ],
 "metadata": {
  "kernelspec": {
   "display_name": "Python 3",
   "language": "python",
   "name": "python3"
  },
  "language_info": {
   "codemirror_mode": {
    "name": "ipython",
    "version": 3
   },
   "file_extension": ".py",
   "mimetype": "text/x-python",
   "name": "python",
   "nbconvert_exporter": "python",
   "pygments_lexer": "ipython3",
   "version": "3.11.2"
  },
  "orig_nbformat": 4,
  "vscode": {
   "interpreter": {
    "hash": "cc9516db361779f465149a679162e8806f3358daf7e4af819e82e06d8ae2129e"
   }
  }
 },
 "nbformat": 4,
 "nbformat_minor": 2
}
