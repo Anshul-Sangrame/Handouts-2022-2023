{
 "cells": [
  {
   "cell_type": "code",
   "execution_count": null,
   "metadata": {},
   "outputs": [],
   "source": [
    "import numpy as np"
   ]
  },
  {
   "cell_type": "code",
   "execution_count": null,
   "metadata": {},
   "outputs": [],
   "source": [
    "def entropy(y):\n",
    "    _, counts = np.unique(y, return_counts=True)\n",
    "    p = counts / len(y)\n",
    "    return -np.sum(p * np.log2(p))\n",
    "\n",
    "\n",
    "# Function to calculate information gain of a split\n",
    "def information_gain(X, y, feature, threshold):\n",
    "    split_mask = X[:, feature] < threshold\n",
    "    left_labels, right_labels = y[split_mask], y[~split_mask]\n",
    "    parent_entropy = entropy(y)\n",
    "    left_entropy = entropy(left_labels)\n",
    "    right_entropy = entropy(right_labels)\n",
    "    left_weight = len(left_labels) / len(y)\n",
    "    right_weight = len(right_labels) / len(y)\n",
    "    return (\n",
    "        parent_entropy - (left_weight * left_entropy) - (right_weight * right_entropy)\n",
    "    )\n",
    "\n",
    "\n",
    "# Building the tree recursively\n",
    "def build_tree(X, y, depth, max_depth):\n",
    "    n_samples, n_features = X.shape\n",
    "    n_labels = len(np.unique(y))\n",
    "\n",
    "    # Check if node is pure or max depth is reached\n",
    "    if n_labels == 1 or depth >= max_depth:\n",
    "        return {\" class \": np.bincount(y).argmax()}\n",
    "\n",
    "    # Find best split\n",
    "    best_feature, best_threshold, best_info_gain = None, None, -1\n",
    "    for feature in range(n_features):\n",
    "        thresholds = np.unique(X[:, feature])\n",
    "        for threshold in thresholds:\n",
    "            info_gain = information_gain(X, y, feature, threshold)\n",
    "        if info_gain > best_info_gain:\n",
    "            best_feature = feature\n",
    "            best_threshold = threshold\n",
    "            best_info_gain = info_gain\n",
    "\n",
    "    # Split data and recursively build subtrees\n",
    "    split_mask = X[:, best_feature] < best_threshold\n",
    "    left_tree = build_tree(\n",
    "        X[split_mask], y[split_mask], depth=depth + 1, max_depth=max_depth\n",
    "    )\n",
    "    right_tree = build_tree(\n",
    "        X[~split_mask], y[~split_mask], depth=depth + 1, max_depth=max_depth\n",
    "    )\n",
    "\n",
    "    # Return decision node\n",
    "    return {\n",
    "        \" feature \": iris.columns[best_feature],\n",
    "        \" threshold \": best_threshold,\n",
    "        \" left \": left_tree,\n",
    "        \" right \": right_tree,\n",
    "    }"
   ]
  }
 ],
 "metadata": {
  "language_info": {
   "name": "python"
  },
  "orig_nbformat": 4
 },
 "nbformat": 4,
 "nbformat_minor": 2
}
