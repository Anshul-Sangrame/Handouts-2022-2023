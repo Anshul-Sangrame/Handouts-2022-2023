{
 "cells": [
  {
   "cell_type": "code",
   "execution_count": 1,
   "id": "e1c21cfb",
   "metadata": {
    "ExecuteTime": {
     "end_time": "2022-08-30T05:09:20.827266Z",
     "start_time": "2022-08-30T05:09:18.123470Z"
    }
   },
   "outputs": [],
   "source": [
    "import numpy as np\n",
    "import matplotlib.pyplot as plt\n",
    "import pandas as pd"
   ]
  },
  {
   "cell_type": "code",
   "execution_count": 2,
   "id": "11197337",
   "metadata": {
    "ExecuteTime": {
     "end_time": "2022-08-30T05:09:21.059723Z",
     "start_time": "2022-08-30T05:09:21.044599Z"
    }
   },
   "outputs": [],
   "source": [
    "def loading_data():\n",
    "    # reading data\n",
    "    train_set = pd.read_csv('sample_data/california_housing_train.csv')\n",
    "    test_set = pd.read_csv('sample_data/california_housing_test.csv')\n",
    "\n",
    "    # data preprocessing\n",
    "    train_y = train_set[\"median_house_value\"]\n",
    "    del train_set[\"median_house_value\"]\n",
    "    del train_set[\"longitude\"]\n",
    "    del train_set[\"latitude\"]\n",
    "\n",
    "    test_y = test_set[\"median_house_value\"]\n",
    "    del test_set[\"median_house_value\"]\n",
    "    del test_set[\"longitude\"]\n",
    "    del test_set[\"latitude\"]\n",
    "\n",
    "    # normalising data\n",
    "    train_set_normal = (train_set-train_set.mean())/train_set.std()\n",
    "    test_set_normal = (test_set-test_set.mean())/test_set.std()\n",
    "\n",
    "    # converting data set to array\n",
    "    train_set = train_set_normal.to_numpy()\n",
    "    test_set = test_set_normal.to_numpy()\n",
    "\n",
    "    train_y = train_y.to_numpy()\n",
    "    test_y = test_y.to_numpy()\n",
    "\n",
    "    return (train_set, train_y), (test_set, test_y)"
   ]
  },
  {
   "cell_type": "code",
   "execution_count": 3,
   "id": "fc271090",
   "metadata": {
    "ExecuteTime": {
     "end_time": "2022-08-30T05:09:22.165943Z",
     "start_time": "2022-08-30T05:09:22.008298Z"
    }
   },
   "outputs": [],
   "source": [
    "(train_X, train_y), (test_X, test_y) = loading_data()"
   ]
  },
  {
   "cell_type": "code",
   "execution_count": 4,
   "id": "ffb36a58",
   "metadata": {
    "ExecuteTime": {
     "end_time": "2022-08-30T05:09:28.547858Z",
     "start_time": "2022-08-30T05:09:28.505264Z"
    }
   },
   "outputs": [],
   "source": [
    "class LinearRegressor(object):\n",
    "    def __init__(self):\n",
    "        pass\n",
    "\n",
    "    def fit_SGD(self, train_X, train_y, epochs=10, lr=0.01):\n",
    "        self.num_datapoints = train_X.shape[0]\n",
    "        self.num_features = train_X.shape[1]\n",
    "\n",
    "        self.weight = np.random.randn(self.num_features, 1)\n",
    "        self.bias = np.random.randn()\n",
    "\n",
    "        self.train_loss = []  # contains loss of each epoch\n",
    "\n",
    "        self.train_loss.append(self.train_test_loss(\n",
    "            data_X=train_X, data_y=train_y))\n",
    "\n",
    "        for j in range(epochs):\n",
    "\n",
    "            nabla_w, nabla_b = self.update_parameters(train_X, train_y)\n",
    "\n",
    "            self.weight = self.weight - (lr/self.num_datapoints)*(nabla_w)\n",
    "            self.bias = self.bias - (lr/self.num_datapoints)*(nabla_b)\n",
    "\n",
    "            self.train_loss.append(self.train_test_loss\n",
    "                                   (data_X=train_X, data_y=train_y))\n",
    "\n",
    "        self.plot_loss()\n",
    "\n",
    "    def fit_NE(self, train_X, train_y):\n",
    "        self. weight = np.linalg.pinv(\n",
    "            (train_X.T) @ train_X) @ ((train_X.T) @ train_y)\n",
    "\n",
    "    def update_parameters(self, X, y):\n",
    "        delta = np.matmul(X, self.weight) + self.bias\n",
    "        delta = delta.reshape(-1)  # making shape of y and delta same\n",
    "        delta = delta - y\n",
    "\n",
    "        nabla_b = np.sum(delta)  # same as dot product with ones vector\n",
    "        # reshaping it as a column vector\n",
    "        nabla_w = np.matmul(delta, X).reshape(-1, 1)\n",
    "\n",
    "        return nabla_w, nabla_b\n",
    "\n",
    "    def train_test_loss(self, data_X, data_y):\n",
    "        predicted_output = self.prediction(data_X)\n",
    "        return self.loss_function(predicted_output, data_y)\n",
    "\n",
    "    def prediction(self, data):\n",
    "        return np.matmul(data, self.weight) + self.bias\n",
    "\n",
    "    def loss_function(self, predicted_output, acutal_output):\n",
    "        # Mean Square Error\n",
    "        predicted_output = predicted_output.reshape(-1)\n",
    "        return (1.0/(2*self.num_datapoints))*(np.linalg.norm(predicted_output - acutal_output))\n",
    "\n",
    "    def plot_loss(self):\n",
    "        x = np.arange(0, len(self.train_loss), 1)\n",
    "        plt.plot(x, self.train_loss, color=\"teal\")\n",
    "        plt.show()\n",
    "\n",
    "    def predict(self, test_X, test_y):\n",
    "        predicted_output = self.prediction(test_X).reshape(-1)\n",
    "        self.r2score(predicted_output, test_y)\n",
    "\n",
    "    def r2score(self, predicted_output, actual_output):\n",
    "        rss = np.linalg.norm(actual_output - predicted_output)**2\n",
    "        tss = np.linalg.norm(actual_output - np.mean(actual_output))**2\n",
    "\n",
    "        print(f\"r2score: {(1-(rss/tss))*100}\")"
   ]
  },
  {
   "cell_type": "code",
   "execution_count": 5,
   "id": "f556998f",
   "metadata": {
    "ExecuteTime": {
     "end_time": "2022-08-30T05:09:31.695154Z",
     "start_time": "2022-08-30T05:09:31.679533Z"
    }
   },
   "outputs": [],
   "source": [
    "lig = LinearRegressor()"
   ]
  },
  {
   "cell_type": "code",
   "execution_count": 6,
   "id": "901831c9",
   "metadata": {
    "ExecuteTime": {
     "end_time": "2022-08-30T05:09:33.963830Z",
     "start_time": "2022-08-30T05:09:33.343476Z"
    }
   },
   "outputs": [
    {
     "data": {
      "image/png": "[encoded data removed]",
      "text/plain": [
       "<Figure size 432x288 with 1 Axes>"
      ]
     },
     "metadata": {
      "needs_background": "light"
     },
     "output_type": "display_data"
    }
   ],
   "source": [
    "lig.fit_SGD(train_X, train_y, epochs=100, lr=0.5)"
   ]
  },
  {
   "cell_type": "code",
   "execution_count": 7,
   "id": "adf8f042",
   "metadata": {
    "ExecuteTime": {
     "end_time": "2022-08-30T05:09:35.447993Z",
     "start_time": "2022-08-30T05:09:35.399881Z"
    }
   },
   "outputs": [
    {
     "name": "stdout",
     "output_type": "stream",
     "text": [
      "r2score: 54.4758007984627\n"
     ]
    }
   ],
   "source": [
    "lig.predict(test_X, test_y)"
   ]
  },
  {
   "cell_type": "code",
   "execution_count": 8,
   "id": "8ea1df05",
   "metadata": {
    "ExecuteTime": {
     "end_time": "2022-08-30T05:09:37.591390Z",
     "start_time": "2022-08-30T05:09:37.561939Z"
    }
   },
   "outputs": [],
   "source": [
    "lig.fit_NE(train_X, train_y)"
   ]
  },
  {
   "cell_type": "code",
   "execution_count": 9,
   "id": "0e1c4fd6",
   "metadata": {
    "ExecuteTime": {
     "end_time": "2022-08-30T05:09:40.186856Z",
     "start_time": "2022-08-30T05:09:40.167233Z"
    }
   },
   "outputs": [
    {
     "name": "stdout",
     "output_type": "stream",
     "text": [
      "r2score: 54.46683334777153\n"
     ]
    }
   ],
   "source": [
    "lig.predict(test_X, test_y)"
   ]
  },
  {
   "cell_type": "code",
   "execution_count": 10,
   "id": "25721fb9",
   "metadata": {
    "ExecuteTime": {
     "end_time": "2022-08-30T05:09:42.988691Z",
     "start_time": "2022-08-30T05:09:41.705405Z"
    }
   },
   "outputs": [],
   "source": [
    "from sklearn.linear_model import LinearRegression"
   ]
  },
  {
   "cell_type": "code",
   "execution_count": 11,
   "id": "41b00d73",
   "metadata": {
    "ExecuteTime": {
     "end_time": "2022-08-30T05:09:43.998054Z",
     "start_time": "2022-08-30T05:09:43.929021Z"
    }
   },
   "outputs": [
    {
     "name": "stdout",
     "output_type": "stream",
     "text": [
      "54.466833347771406\n"
     ]
    }
   ],
   "source": [
    "sk_lig = LinearRegression()\n",
    "sk_lig.fit(train_X, train_y)\n",
    "print(sk_lig.score(test_X, test_y)*100)"
   ]
  }
 ],
 "metadata": {
  "kernelspec": {
   "display_name": "Python 3 (ipykernel)",
   "language": "python",
   "name": "python3"
  },
  "language_info": {
   "codemirror_mode": {
    "name": "ipython",
    "version": 3
   },
   "file_extension": ".py",
   "mimetype": "text/x-python",
   "name": "python",
   "nbconvert_exporter": "python",
   "pygments_lexer": "ipython3",
   "version": "3.8.10"
  },
  "toc": {
   "base_numbering": 1,
   "nav_menu": {},
   "number_sections": true,
   "sideBar": true,
   "skip_h1_title": false,
   "title_cell": "Table of Contents",
   "title_sidebar": "Contents",
   "toc_cell": false,
   "toc_position": {},
   "toc_section_display": true,
   "toc_window_display": false
  },
  "varInspector": {
   "cols": {
    "lenName": 16,
    "lenType": 16,
    "lenVar": 40
   },
   "kernels_config": {
    "python": {
     "delete_cmd_postfix": "",
     "delete_cmd_prefix": "del ",
     "library": "var_list.py",
     "varRefreshCmd": "print(var_dic_list())"
    },
    "r": {
     "delete_cmd_postfix": ") ",
     "delete_cmd_prefix": "rm(",
     "library": "var_list.r",
     "varRefreshCmd": "cat(var_dic_list()) "
    }
   },
   "types_to_exclude": [
    "module",
    "function",
    "builtin_function_or_method",
    "instance",
    "_Feature"
   ],
   "window_display": false
  }
 },
 "nbformat": 4,
 "nbformat_minor": 5
}
